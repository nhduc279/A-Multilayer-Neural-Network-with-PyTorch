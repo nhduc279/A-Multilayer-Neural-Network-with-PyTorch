{
 "cells": [
  {
   "cell_type": "code",
   "execution_count": 1,
   "id": "01daa14d-9d1d-4eb8-b474-73d1c62b87a2",
   "metadata": {},
   "outputs": [],
   "source": [
    "import pandas as pd\n",
    "from sklearn.ensemble import RandomForestRegressor\n",
    "from sklearn.model_selection import train_test_split\n",
    "from sklearn.metrics import mean_squared_error"
   ]
  },
  {
   "cell_type": "code",
   "execution_count": 2,
   "id": "95103b79-78e0-4daa-ab78-7d24000b6765",
   "metadata": {},
   "outputs": [
    {
     "data": {
      "text/html": [
       "<div>\n",
       "<style scoped>\n",
       "    .dataframe tbody tr th:only-of-type {\n",
       "        vertical-align: middle;\n",
       "    }\n",
       "\n",
       "    .dataframe tbody tr th {\n",
       "        vertical-align: top;\n",
       "    }\n",
       "\n",
       "    .dataframe thead th {\n",
       "        text-align: right;\n",
       "    }\n",
       "</style>\n",
       "<table border=\"1\" class=\"dataframe\">\n",
       "  <thead>\n",
       "    <tr style=\"text-align: right;\">\n",
       "      <th></th>\n",
       "      <th>TV</th>\n",
       "      <th>Radio</th>\n",
       "      <th>Newspaper</th>\n",
       "      <th>Sales</th>\n",
       "    </tr>\n",
       "  </thead>\n",
       "  <tbody>\n",
       "    <tr>\n",
       "      <th>0</th>\n",
       "      <td>230.1</td>\n",
       "      <td>37.8</td>\n",
       "      <td>69.2</td>\n",
       "      <td>22.1</td>\n",
       "    </tr>\n",
       "    <tr>\n",
       "      <th>1</th>\n",
       "      <td>44.5</td>\n",
       "      <td>39.3</td>\n",
       "      <td>45.1</td>\n",
       "      <td>10.4</td>\n",
       "    </tr>\n",
       "    <tr>\n",
       "      <th>2</th>\n",
       "      <td>17.2</td>\n",
       "      <td>45.9</td>\n",
       "      <td>69.3</td>\n",
       "      <td>9.3</td>\n",
       "    </tr>\n",
       "    <tr>\n",
       "      <th>3</th>\n",
       "      <td>151.5</td>\n",
       "      <td>41.3</td>\n",
       "      <td>58.5</td>\n",
       "      <td>18.5</td>\n",
       "    </tr>\n",
       "    <tr>\n",
       "      <th>4</th>\n",
       "      <td>180.8</td>\n",
       "      <td>10.8</td>\n",
       "      <td>58.4</td>\n",
       "      <td>12.9</td>\n",
       "    </tr>\n",
       "    <tr>\n",
       "      <th>...</th>\n",
       "      <td>...</td>\n",
       "      <td>...</td>\n",
       "      <td>...</td>\n",
       "      <td>...</td>\n",
       "    </tr>\n",
       "    <tr>\n",
       "      <th>195</th>\n",
       "      <td>38.2</td>\n",
       "      <td>3.7</td>\n",
       "      <td>13.8</td>\n",
       "      <td>7.6</td>\n",
       "    </tr>\n",
       "    <tr>\n",
       "      <th>196</th>\n",
       "      <td>94.2</td>\n",
       "      <td>4.9</td>\n",
       "      <td>8.1</td>\n",
       "      <td>9.7</td>\n",
       "    </tr>\n",
       "    <tr>\n",
       "      <th>197</th>\n",
       "      <td>177.0</td>\n",
       "      <td>9.3</td>\n",
       "      <td>6.4</td>\n",
       "      <td>12.8</td>\n",
       "    </tr>\n",
       "    <tr>\n",
       "      <th>198</th>\n",
       "      <td>283.6</td>\n",
       "      <td>42.0</td>\n",
       "      <td>66.2</td>\n",
       "      <td>25.5</td>\n",
       "    </tr>\n",
       "    <tr>\n",
       "      <th>199</th>\n",
       "      <td>232.1</td>\n",
       "      <td>8.6</td>\n",
       "      <td>8.7</td>\n",
       "      <td>13.4</td>\n",
       "    </tr>\n",
       "  </tbody>\n",
       "</table>\n",
       "<p>200 rows × 4 columns</p>\n",
       "</div>"
      ],
      "text/plain": [
       "        TV  Radio  Newspaper  Sales\n",
       "0    230.1   37.8       69.2   22.1\n",
       "1     44.5   39.3       45.1   10.4\n",
       "2     17.2   45.9       69.3    9.3\n",
       "3    151.5   41.3       58.5   18.5\n",
       "4    180.8   10.8       58.4   12.9\n",
       "..     ...    ...        ...    ...\n",
       "195   38.2    3.7       13.8    7.6\n",
       "196   94.2    4.9        8.1    9.7\n",
       "197  177.0    9.3        6.4   12.8\n",
       "198  283.6   42.0       66.2   25.5\n",
       "199  232.1    8.6        8.7   13.4\n",
       "\n",
       "[200 rows x 4 columns]"
      ]
     },
     "execution_count": 2,
     "metadata": {},
     "output_type": "execute_result"
    }
   ],
   "source": [
    "df = pd.read_csv('sales.csv').drop(['Unnamed: 0'], axis='columns')\n",
    "df"
   ]
  },
  {
   "cell_type": "code",
   "execution_count": 3,
   "id": "fdbaed5c-68b0-42cd-9702-478509a0007b",
   "metadata": {},
   "outputs": [],
   "source": [
    "features = ['TV', 'Radio', 'Newspaper']\n",
    "\n",
    "X = df[features]\n",
    "y = df['Sales']\n",
    "\n",
    "X_train, X_test, y_train, y_test = train_test_split(X, y,\n",
    "                                                    test_size=0.25, \n",
    "                                                    random_state=279)"
   ]
  },
  {
   "cell_type": "code",
   "execution_count": 4,
   "id": "391d842c-762f-4d47-b207-17c8917a69ce",
   "metadata": {},
   "outputs": [],
   "source": [
    "X_train, X_test, y_train, y_test = train_test_split(X, y,\n",
    "                                                    test_size=0.25, \n",
    "                                                    random_state=279)"
   ]
  },
  {
   "cell_type": "code",
   "execution_count": 5,
   "id": "8dd06c30-abc6-4276-8443-5eb3d8e2d6bd",
   "metadata": {},
   "outputs": [],
   "source": [
    "forest = RandomForestRegressor(n_estimators=100, random_state=3)\n",
    "forest.fit(X_train, y_train)\n",
    "y_pred = forest.predict(X_test)"
   ]
  },
  {
   "cell_type": "code",
   "execution_count": 6,
   "id": "7a355b3f-d824-4ab4-96d6-ea897b37daec",
   "metadata": {},
   "outputs": [
    {
     "data": {
      "text/plain": [
       "0.38584786000000143"
      ]
     },
     "execution_count": 6,
     "metadata": {},
     "output_type": "execute_result"
    }
   ],
   "source": [
    "mean_squared_error(y_pred, y_test)"
   ]
  }
 ],
 "metadata": {
  "kernelspec": {
   "display_name": "Python 3 (ipykernel)",
   "language": "python",
   "name": "python3"
  },
  "language_info": {
   "codemirror_mode": {
    "name": "ipython",
    "version": 3
   },
   "file_extension": ".py",
   "mimetype": "text/x-python",
   "name": "python",
   "nbconvert_exporter": "python",
   "pygments_lexer": "ipython3",
   "version": "3.8.8"
  },
  "widgets": {
   "application/vnd.jupyter.widget-state+json": {
    "state": {
     "01d4967d95df4706a54bb826ead11b3c": {
      "model_module": "@jupyter-widgets/controls",
      "model_module_version": "1.5.0",
      "model_name": "FloatProgressModel",
      "state": {
       "bar_style": "success",
       "layout": "IPY_MODEL_6aad8cb91dd547c99178557d16467a2e",
       "max": 5,
       "style": "IPY_MODEL_69b9772a246547d8b365361a32791fd2",
       "value": 5
      }
     },
     "041115cc0ae9472aa9626c62ba55b9f9": {
      "model_module": "@jupyter-widgets/controls",
      "model_module_version": "1.5.0",
      "model_name": "HTMLModel",
      "state": {
       "layout": "IPY_MODEL_2e7fa43e793046b8a6177a29da9015fa",
       "style": "IPY_MODEL_aac8558e0982492ab356e9bd90372869",
       "value": " 1/5 [03:24&lt;02:25, 36.46s/it]"
      }
     },
     "0d5a873441fc4f1aa1f84dbb03e7b2a4": {
      "model_module": "@jupyter-widgets/base",
      "model_module_version": "1.2.0",
      "model_name": "LayoutModel",
      "state": {}
     },
     "0da982fd26f6477898811f2c69baf5d6": {
      "model_module": "@jupyter-widgets/controls",
      "model_module_version": "1.5.0",
      "model_name": "DescriptionStyleModel",
      "state": {
       "description_width": ""
      }
     },
     "0e7871e56ae34d6584d6112fe3f2b600": {
      "model_module": "@jupyter-widgets/base",
      "model_module_version": "1.2.0",
      "model_name": "LayoutModel",
      "state": {}
     },
     "1146dcaf71eb405c887bd86400df97c4": {
      "model_module": "@jupyter-widgets/controls",
      "model_module_version": "1.5.0",
      "model_name": "HTMLModel",
      "state": {
       "layout": "IPY_MODEL_dab27adda7d440c792f6765f23ef7612",
       "style": "IPY_MODEL_1df49df8bbfd4615848a3126ef784550",
       "value": "100%"
      }
     },
     "13cf9619166841caad8aa50b8ed5411f": {
      "model_module": "@jupyter-widgets/base",
      "model_module_version": "1.2.0",
      "model_name": "LayoutModel",
      "state": {}
     },
     "15333d1b89fb4136b4823f3114e0d1d3": {
      "model_module": "@jupyter-widgets/controls",
      "model_module_version": "1.5.0",
      "model_name": "DescriptionStyleModel",
      "state": {
       "description_width": ""
      }
     },
     "1764a03522f747bebc46a4457913191f": {
      "model_module": "@jupyter-widgets/controls",
      "model_module_version": "1.5.0",
      "model_name": "DescriptionStyleModel",
      "state": {
       "description_width": ""
      }
     },
     "1b24c100c5bf402cbdcca73727863618": {
      "model_module": "@jupyter-widgets/controls",
      "model_module_version": "1.5.0",
      "model_name": "HTMLModel",
      "state": {
       "layout": "IPY_MODEL_63a0781900c543ad9f5d296802a38f76",
       "style": "IPY_MODEL_6e422cc859aa4897b6170c43fc5b215c",
       "value": " 20%"
      }
     },
     "1df49df8bbfd4615848a3126ef784550": {
      "model_module": "@jupyter-widgets/controls",
      "model_module_version": "1.5.0",
      "model_name": "DescriptionStyleModel",
      "state": {
       "description_width": ""
      }
     },
     "1e88bf74e57d4622b837c350155b88a9": {
      "model_module": "@jupyter-widgets/base",
      "model_module_version": "1.2.0",
      "model_name": "LayoutModel",
      "state": {}
     },
     "20abd70d96014c6793f3bc0febe8897d": {
      "model_module": "@jupyter-widgets/controls",
      "model_module_version": "1.5.0",
      "model_name": "DescriptionStyleModel",
      "state": {
       "description_width": ""
      }
     },
     "22d51ce475594aabb57af90e8572037b": {
      "model_module": "@jupyter-widgets/base",
      "model_module_version": "1.2.0",
      "model_name": "LayoutModel",
      "state": {}
     },
     "246dbc605f6f40568eccf7518b065f3a": {
      "model_module": "@jupyter-widgets/controls",
      "model_module_version": "1.5.0",
      "model_name": "HTMLModel",
      "state": {
       "layout": "IPY_MODEL_51b5abc3a79645d2aa999df7c0194e4b",
       "style": "IPY_MODEL_20abd70d96014c6793f3bc0febe8897d",
       "value": "  0%"
      }
     },
     "24ca1975ef1c4a1399a8179d0bd684f2": {
      "model_module": "@jupyter-widgets/base",
      "model_module_version": "1.2.0",
      "model_name": "LayoutModel",
      "state": {}
     },
     "257041effa834f609abfc63b67a0ea06": {
      "model_module": "@jupyter-widgets/controls",
      "model_module_version": "1.5.0",
      "model_name": "ProgressStyleModel",
      "state": {
       "description_width": ""
      }
     },
     "2e444b06bcc348df9ed312bf1b77c3a9": {
      "model_module": "@jupyter-widgets/controls",
      "model_module_version": "1.5.0",
      "model_name": "HBoxModel",
      "state": {
       "children": [
        "IPY_MODEL_1146dcaf71eb405c887bd86400df97c4",
        "IPY_MODEL_c23cd5d31f6846829aba4136ccd67e23",
        "IPY_MODEL_3f25a001453846c1a2acc9e296f9c11d"
       ],
       "layout": "IPY_MODEL_e647f04468114f6faf902f971ce98ad8"
      }
     },
     "2e7fa43e793046b8a6177a29da9015fa": {
      "model_module": "@jupyter-widgets/base",
      "model_module_version": "1.2.0",
      "model_name": "LayoutModel",
      "state": {}
     },
     "30a8bfd508e248f8b6c6cb1e0929c3dc": {
      "model_module": "@jupyter-widgets/controls",
      "model_module_version": "1.5.0",
      "model_name": "FloatProgressModel",
      "state": {
       "bar_style": "danger",
       "layout": "IPY_MODEL_99fde2ed8a6d4481b46fee7bb4433f85",
       "max": 5,
       "style": "IPY_MODEL_4eaafb945f84440cbdd8a1f98aa68d2b",
       "value": 1
      }
     },
     "363ae58a97a44878baeab4817f95f8a4": {
      "model_module": "@jupyter-widgets/base",
      "model_module_version": "1.2.0",
      "model_name": "LayoutModel",
      "state": {}
     },
     "39ca9198457e49348c3fdc0c2806fa7d": {
      "model_module": "@jupyter-widgets/controls",
      "model_module_version": "1.5.0",
      "model_name": "HBoxModel",
      "state": {
       "children": [
        "IPY_MODEL_7d945076ee95426cbc23a86bf2d6de06",
        "IPY_MODEL_6fe7858c771d4b8784495f460a60417e",
        "IPY_MODEL_c5a897dffa6b4b00a6907cc7f9c7962a"
       ],
       "layout": "IPY_MODEL_5b32feb313bd4d388b6949460e217d4a"
      }
     },
     "3accfe7359e54454adad989f7b6b3bd6": {
      "model_module": "@jupyter-widgets/controls",
      "model_module_version": "1.5.0",
      "model_name": "HTMLModel",
      "state": {
       "layout": "IPY_MODEL_22d51ce475594aabb57af90e8572037b",
       "style": "IPY_MODEL_1764a03522f747bebc46a4457913191f",
       "value": " 5/5 [03:57&lt;00:00, 50.44s/it]"
      }
     },
     "3ae129e1d9af45229546529905558924": {
      "model_module": "@jupyter-widgets/controls",
      "model_module_version": "1.5.0",
      "model_name": "HTMLModel",
      "state": {
       "layout": "IPY_MODEL_9176912556984c4db1c9eba06a9b65c9",
       "style": "IPY_MODEL_9ad33c1a528543a09ee3d816c8e7e2f8",
       "value": " 5/5 [04:09&lt;00:00, 52.16s/it]"
      }
     },
     "3bff68994a644f30a450ef555c2ab03a": {
      "model_module": "@jupyter-widgets/controls",
      "model_module_version": "1.5.0",
      "model_name": "HBoxModel",
      "state": {
       "children": [
        "IPY_MODEL_be0e2bc1fbaa4df59f9188da491ac5d8",
        "IPY_MODEL_01d4967d95df4706a54bb826ead11b3c",
        "IPY_MODEL_3ae129e1d9af45229546529905558924"
       ],
       "layout": "IPY_MODEL_798be5cd31f24ab69230e27384e5e7fa"
      }
     },
     "3d5039e1de594ae3ae40b11e60facab4": {
      "model_module": "@jupyter-widgets/controls",
      "model_module_version": "1.5.0",
      "model_name": "DescriptionStyleModel",
      "state": {
       "description_width": ""
      }
     },
     "3e02eef9f31b41deac4b92e797f9177d": {
      "model_module": "@jupyter-widgets/base",
      "model_module_version": "1.2.0",
      "model_name": "LayoutModel",
      "state": {}
     },
     "3f25a001453846c1a2acc9e296f9c11d": {
      "model_module": "@jupyter-widgets/controls",
      "model_module_version": "1.5.0",
      "model_name": "HTMLModel",
      "state": {
       "layout": "IPY_MODEL_4cc121e46f504cbbb4d6569d01ceaec5",
       "style": "IPY_MODEL_e857e636992e4f0981bfd9d53232ff32",
       "value": " 5/5 [05:53&lt;00:00, 77.53s/it]"
      }
     },
     "4cc121e46f504cbbb4d6569d01ceaec5": {
      "model_module": "@jupyter-widgets/base",
      "model_module_version": "1.2.0",
      "model_name": "LayoutModel",
      "state": {}
     },
     "4d7dfe86804b435e9ce5827050412b75": {
      "model_module": "@jupyter-widgets/controls",
      "model_module_version": "1.5.0",
      "model_name": "FloatProgressModel",
      "state": {
       "bar_style": "danger",
       "layout": "IPY_MODEL_c21769e7a38c4ffbb479f6cc7cbfbf64",
       "max": 5,
       "style": "IPY_MODEL_b9b1bf3b72fb4d38b8823b2fb9c6d5e9"
      }
     },
     "4eaafb945f84440cbdd8a1f98aa68d2b": {
      "model_module": "@jupyter-widgets/controls",
      "model_module_version": "1.5.0",
      "model_name": "ProgressStyleModel",
      "state": {
       "description_width": ""
      }
     },
     "51b5abc3a79645d2aa999df7c0194e4b": {
      "model_module": "@jupyter-widgets/base",
      "model_module_version": "1.2.0",
      "model_name": "LayoutModel",
      "state": {}
     },
     "52647c9ac26f4850a4c66947661c2ad2": {
      "model_module": "@jupyter-widgets/base",
      "model_module_version": "1.2.0",
      "model_name": "LayoutModel",
      "state": {}
     },
     "58744f8e77144d65a855e1d27d4f4a55": {
      "model_module": "@jupyter-widgets/base",
      "model_module_version": "1.2.0",
      "model_name": "LayoutModel",
      "state": {}
     },
     "59ae39926c4e43f6ab7f7e0a8b4f3741": {
      "model_module": "@jupyter-widgets/controls",
      "model_module_version": "1.5.0",
      "model_name": "HTMLModel",
      "state": {
       "layout": "IPY_MODEL_1e88bf74e57d4622b837c350155b88a9",
       "style": "IPY_MODEL_b37633b40b0040f99913d403b582829b",
       "value": "  0%"
      }
     },
     "5a071f0e4505491c805dfa4713775621": {
      "model_module": "@jupyter-widgets/controls",
      "model_module_version": "1.5.0",
      "model_name": "HTMLModel",
      "state": {
       "layout": "IPY_MODEL_3e02eef9f31b41deac4b92e797f9177d",
       "style": "IPY_MODEL_b03fed8250704c12a40dbc23ee51a11b",
       "value": "100%"
      }
     },
     "5a742fb83d1644e8a47e31d779075a52": {
      "model_module": "@jupyter-widgets/base",
      "model_module_version": "1.2.0",
      "model_name": "LayoutModel",
      "state": {}
     },
     "5b32feb313bd4d388b6949460e217d4a": {
      "model_module": "@jupyter-widgets/base",
      "model_module_version": "1.2.0",
      "model_name": "LayoutModel",
      "state": {}
     },
     "63a0781900c543ad9f5d296802a38f76": {
      "model_module": "@jupyter-widgets/base",
      "model_module_version": "1.2.0",
      "model_name": "LayoutModel",
      "state": {}
     },
     "691066e6ed0d4e09b105f2b7db01c228": {
      "model_module": "@jupyter-widgets/base",
      "model_module_version": "1.2.0",
      "model_name": "LayoutModel",
      "state": {}
     },
     "69b9772a246547d8b365361a32791fd2": {
      "model_module": "@jupyter-widgets/controls",
      "model_module_version": "1.5.0",
      "model_name": "ProgressStyleModel",
      "state": {
       "description_width": ""
      }
     },
     "6aad8cb91dd547c99178557d16467a2e": {
      "model_module": "@jupyter-widgets/base",
      "model_module_version": "1.2.0",
      "model_name": "LayoutModel",
      "state": {}
     },
     "6d8649259e0e41fa9741c0c83e2f7214": {
      "model_module": "@jupyter-widgets/base",
      "model_module_version": "1.2.0",
      "model_name": "LayoutModel",
      "state": {}
     },
     "6e422cc859aa4897b6170c43fc5b215c": {
      "model_module": "@jupyter-widgets/controls",
      "model_module_version": "1.5.0",
      "model_name": "DescriptionStyleModel",
      "state": {
       "description_width": ""
      }
     },
     "6fe7858c771d4b8784495f460a60417e": {
      "model_module": "@jupyter-widgets/controls",
      "model_module_version": "1.5.0",
      "model_name": "FloatProgressModel",
      "state": {
       "bar_style": "danger",
       "layout": "IPY_MODEL_ed581f7086614dee9f4611aafacc1937",
       "max": 5,
       "style": "IPY_MODEL_7352d9f6b7724fdb89cfac252ef7dca7",
       "value": 2
      }
     },
     "7352d9f6b7724fdb89cfac252ef7dca7": {
      "model_module": "@jupyter-widgets/controls",
      "model_module_version": "1.5.0",
      "model_name": "ProgressStyleModel",
      "state": {
       "description_width": ""
      }
     },
     "7811c1d319cb4ed68ccfe757e2393d3e": {
      "model_module": "@jupyter-widgets/controls",
      "model_module_version": "1.5.0",
      "model_name": "DescriptionStyleModel",
      "state": {
       "description_width": ""
      }
     },
     "798be5cd31f24ab69230e27384e5e7fa": {
      "model_module": "@jupyter-widgets/base",
      "model_module_version": "1.2.0",
      "model_name": "LayoutModel",
      "state": {}
     },
     "7d945076ee95426cbc23a86bf2d6de06": {
      "model_module": "@jupyter-widgets/controls",
      "model_module_version": "1.5.0",
      "model_name": "HTMLModel",
      "state": {
       "layout": "IPY_MODEL_58744f8e77144d65a855e1d27d4f4a55",
       "style": "IPY_MODEL_15333d1b89fb4136b4823f3114e0d1d3",
       "value": " 40%"
      }
     },
     "80706e987f084f48aec1f41cd2eb5393": {
      "model_module": "@jupyter-widgets/base",
      "model_module_version": "1.2.0",
      "model_name": "LayoutModel",
      "state": {}
     },
     "82ead5fcb1144285ab13289f52aef4ae": {
      "model_module": "@jupyter-widgets/base",
      "model_module_version": "1.2.0",
      "model_name": "LayoutModel",
      "state": {}
     },
     "864e06e0d2a24739b4bbd7e7b584f475": {
      "model_module": "@jupyter-widgets/controls",
      "model_module_version": "1.5.0",
      "model_name": "ProgressStyleModel",
      "state": {
       "description_width": ""
      }
     },
     "86555ace1c9844dbac672b5770969d1b": {
      "model_module": "@jupyter-widgets/controls",
      "model_module_version": "1.5.0",
      "model_name": "ProgressStyleModel",
      "state": {
       "description_width": ""
      }
     },
     "8ab735f2437f40da92290469bb45d02e": {
      "model_module": "@jupyter-widgets/controls",
      "model_module_version": "1.5.0",
      "model_name": "FloatProgressModel",
      "state": {
       "bar_style": "success",
       "layout": "IPY_MODEL_691066e6ed0d4e09b105f2b7db01c228",
       "max": 5,
       "style": "IPY_MODEL_86555ace1c9844dbac672b5770969d1b",
       "value": 5
      }
     },
     "8f4f774289664b48ba06f7fc54e5836c": {
      "model_module": "@jupyter-widgets/controls",
      "model_module_version": "1.5.0",
      "model_name": "FloatProgressModel",
      "state": {
       "bar_style": "danger",
       "layout": "IPY_MODEL_52647c9ac26f4850a4c66947661c2ad2",
       "max": 5,
       "style": "IPY_MODEL_257041effa834f609abfc63b67a0ea06"
      }
     },
     "9176912556984c4db1c9eba06a9b65c9": {
      "model_module": "@jupyter-widgets/base",
      "model_module_version": "1.2.0",
      "model_name": "LayoutModel",
      "state": {}
     },
     "91e9d9581abc48b3b59f345c9850da98": {
      "model_module": "@jupyter-widgets/controls",
      "model_module_version": "1.5.0",
      "model_name": "FloatProgressModel",
      "state": {
       "bar_style": "success",
       "layout": "IPY_MODEL_9e8bf689c5834feab0cd8010ac535dea",
       "max": 5,
       "style": "IPY_MODEL_864e06e0d2a24739b4bbd7e7b584f475",
       "value": 5
      }
     },
     "943608710f8e4a6283eade33aaf3e207": {
      "model_module": "@jupyter-widgets/base",
      "model_module_version": "1.2.0",
      "model_name": "LayoutModel",
      "state": {}
     },
     "94609a9ae980411d9df46eec718bc534": {
      "model_module": "@jupyter-widgets/base",
      "model_module_version": "1.2.0",
      "model_name": "LayoutModel",
      "state": {}
     },
     "97e23dd41e5a4690b1d3bab27bbd4b32": {
      "model_module": "@jupyter-widgets/controls",
      "model_module_version": "1.5.0",
      "model_name": "HTMLModel",
      "state": {
       "layout": "IPY_MODEL_363ae58a97a44878baeab4817f95f8a4",
       "style": "IPY_MODEL_0da982fd26f6477898811f2c69baf5d6",
       "value": "100%"
      }
     },
     "99fde2ed8a6d4481b46fee7bb4433f85": {
      "model_module": "@jupyter-widgets/base",
      "model_module_version": "1.2.0",
      "model_name": "LayoutModel",
      "state": {}
     },
     "9ad33c1a528543a09ee3d816c8e7e2f8": {
      "model_module": "@jupyter-widgets/controls",
      "model_module_version": "1.5.0",
      "model_name": "DescriptionStyleModel",
      "state": {
       "description_width": ""
      }
     },
     "9e8bf689c5834feab0cd8010ac535dea": {
      "model_module": "@jupyter-widgets/base",
      "model_module_version": "1.2.0",
      "model_name": "LayoutModel",
      "state": {}
     },
     "a0a62365901b435ebeb419cc223c8e78": {
      "model_module": "@jupyter-widgets/controls",
      "model_module_version": "1.5.0",
      "model_name": "HBoxModel",
      "state": {
       "children": [
        "IPY_MODEL_246dbc605f6f40568eccf7518b065f3a",
        "IPY_MODEL_4d7dfe86804b435e9ce5827050412b75",
        "IPY_MODEL_cc478fbceff54930bcf06dcf51f13072"
       ],
       "layout": "IPY_MODEL_94609a9ae980411d9df46eec718bc534"
      }
     },
     "a2903230c0124ead910b637fab3b6b01": {
      "model_module": "@jupyter-widgets/controls",
      "model_module_version": "1.5.0",
      "model_name": "HBoxModel",
      "state": {
       "children": [
        "IPY_MODEL_5a071f0e4505491c805dfa4713775621",
        "IPY_MODEL_91e9d9581abc48b3b59f345c9850da98",
        "IPY_MODEL_3accfe7359e54454adad989f7b6b3bd6"
       ],
       "layout": "IPY_MODEL_24ca1975ef1c4a1399a8179d0bd684f2"
      }
     },
     "a5536d79bdff4fbf9d8767a618e196fa": {
      "model_module": "@jupyter-widgets/controls",
      "model_module_version": "1.5.0",
      "model_name": "DescriptionStyleModel",
      "state": {
       "description_width": ""
      }
     },
     "a796e31561824388875a7c2db1fbbf8b": {
      "model_module": "@jupyter-widgets/controls",
      "model_module_version": "1.5.0",
      "model_name": "ProgressStyleModel",
      "state": {
       "description_width": ""
      }
     },
     "aac8558e0982492ab356e9bd90372869": {
      "model_module": "@jupyter-widgets/controls",
      "model_module_version": "1.5.0",
      "model_name": "DescriptionStyleModel",
      "state": {
       "description_width": ""
      }
     },
     "b03fed8250704c12a40dbc23ee51a11b": {
      "model_module": "@jupyter-widgets/controls",
      "model_module_version": "1.5.0",
      "model_name": "DescriptionStyleModel",
      "state": {
       "description_width": ""
      }
     },
     "b37633b40b0040f99913d403b582829b": {
      "model_module": "@jupyter-widgets/controls",
      "model_module_version": "1.5.0",
      "model_name": "DescriptionStyleModel",
      "state": {
       "description_width": ""
      }
     },
     "b470e23c4659450e86cc4bad12bab7a6": {
      "model_module": "@jupyter-widgets/controls",
      "model_module_version": "1.5.0",
      "model_name": "DescriptionStyleModel",
      "state": {
       "description_width": ""
      }
     },
     "b9b1bf3b72fb4d38b8823b2fb9c6d5e9": {
      "model_module": "@jupyter-widgets/controls",
      "model_module_version": "1.5.0",
      "model_name": "ProgressStyleModel",
      "state": {
       "description_width": ""
      }
     },
     "be0e2bc1fbaa4df59f9188da491ac5d8": {
      "model_module": "@jupyter-widgets/controls",
      "model_module_version": "1.5.0",
      "model_name": "HTMLModel",
      "state": {
       "layout": "IPY_MODEL_6d8649259e0e41fa9741c0c83e2f7214",
       "style": "IPY_MODEL_7811c1d319cb4ed68ccfe757e2393d3e",
       "value": "100%"
      }
     },
     "bfb1c14c9a0143fb9988ef3f6b421da8": {
      "model_module": "@jupyter-widgets/controls",
      "model_module_version": "1.5.0",
      "model_name": "HBoxModel",
      "state": {
       "children": [
        "IPY_MODEL_59ae39926c4e43f6ab7f7e0a8b4f3741",
        "IPY_MODEL_8f4f774289664b48ba06f7fc54e5836c",
        "IPY_MODEL_cc75d7153bff452ea5b8348f976d320a"
       ],
       "layout": "IPY_MODEL_80706e987f084f48aec1f41cd2eb5393"
      }
     },
     "c0317f0a44be47f3af2e2a7182915300": {
      "model_module": "@jupyter-widgets/base",
      "model_module_version": "1.2.0",
      "model_name": "LayoutModel",
      "state": {}
     },
     "c21769e7a38c4ffbb479f6cc7cbfbf64": {
      "model_module": "@jupyter-widgets/base",
      "model_module_version": "1.2.0",
      "model_name": "LayoutModel",
      "state": {}
     },
     "c23cd5d31f6846829aba4136ccd67e23": {
      "model_module": "@jupyter-widgets/controls",
      "model_module_version": "1.5.0",
      "model_name": "FloatProgressModel",
      "state": {
       "bar_style": "success",
       "layout": "IPY_MODEL_0d5a873441fc4f1aa1f84dbb03e7b2a4",
       "max": 5,
       "style": "IPY_MODEL_a796e31561824388875a7c2db1fbbf8b",
       "value": 5
      }
     },
     "c5a897dffa6b4b00a6907cc7f9c7962a": {
      "model_module": "@jupyter-widgets/controls",
      "model_module_version": "1.5.0",
      "model_name": "HTMLModel",
      "state": {
       "layout": "IPY_MODEL_13cf9619166841caad8aa50b8ed5411f",
       "style": "IPY_MODEL_b470e23c4659450e86cc4bad12bab7a6",
       "value": " 2/5 [02:22&lt;02:58, 59.62s/it]"
      }
     },
     "c8b918ef53e94b8fbdb434f91b0c1c57": {
      "model_module": "@jupyter-widgets/controls",
      "model_module_version": "1.5.0",
      "model_name": "DescriptionStyleModel",
      "state": {
       "description_width": ""
      }
     },
     "cba15093f5d54ac69ef9ec7ba404080d": {
      "model_module": "@jupyter-widgets/controls",
      "model_module_version": "1.5.0",
      "model_name": "HBoxModel",
      "state": {
       "children": [
        "IPY_MODEL_97e23dd41e5a4690b1d3bab27bbd4b32",
        "IPY_MODEL_8ab735f2437f40da92290469bb45d02e",
        "IPY_MODEL_eebf6d2035674f37ad8a4d65b0c76e6c"
       ],
       "layout": "IPY_MODEL_0e7871e56ae34d6584d6112fe3f2b600"
      }
     },
     "cc478fbceff54930bcf06dcf51f13072": {
      "model_module": "@jupyter-widgets/controls",
      "model_module_version": "1.5.0",
      "model_name": "HTMLModel",
      "state": {
       "layout": "IPY_MODEL_5a742fb83d1644e8a47e31d779075a52",
       "style": "IPY_MODEL_a5536d79bdff4fbf9d8767a618e196fa",
       "value": " 0/5 [00:00&lt;?, ?it/s]"
      }
     },
     "cc75d7153bff452ea5b8348f976d320a": {
      "model_module": "@jupyter-widgets/controls",
      "model_module_version": "1.5.0",
      "model_name": "HTMLModel",
      "state": {
       "layout": "IPY_MODEL_943608710f8e4a6283eade33aaf3e207",
       "style": "IPY_MODEL_c8b918ef53e94b8fbdb434f91b0c1c57",
       "value": " 0/5 [00:33&lt;?, ?it/s]"
      }
     },
     "dab27adda7d440c792f6765f23ef7612": {
      "model_module": "@jupyter-widgets/base",
      "model_module_version": "1.2.0",
      "model_name": "LayoutModel",
      "state": {}
     },
     "e647f04468114f6faf902f971ce98ad8": {
      "model_module": "@jupyter-widgets/base",
      "model_module_version": "1.2.0",
      "model_name": "LayoutModel",
      "state": {}
     },
     "e857e636992e4f0981bfd9d53232ff32": {
      "model_module": "@jupyter-widgets/controls",
      "model_module_version": "1.5.0",
      "model_name": "DescriptionStyleModel",
      "state": {
       "description_width": ""
      }
     },
     "ecfddbff794b439aacd4ba9c9dde6e23": {
      "model_module": "@jupyter-widgets/controls",
      "model_module_version": "1.5.0",
      "model_name": "HBoxModel",
      "state": {
       "children": [
        "IPY_MODEL_1b24c100c5bf402cbdcca73727863618",
        "IPY_MODEL_30a8bfd508e248f8b6c6cb1e0929c3dc",
        "IPY_MODEL_041115cc0ae9472aa9626c62ba55b9f9"
       ],
       "layout": "IPY_MODEL_82ead5fcb1144285ab13289f52aef4ae"
      }
     },
     "ed581f7086614dee9f4611aafacc1937": {
      "model_module": "@jupyter-widgets/base",
      "model_module_version": "1.2.0",
      "model_name": "LayoutModel",
      "state": {}
     },
     "eebf6d2035674f37ad8a4d65b0c76e6c": {
      "model_module": "@jupyter-widgets/controls",
      "model_module_version": "1.5.0",
      "model_name": "HTMLModel",
      "state": {
       "layout": "IPY_MODEL_c0317f0a44be47f3af2e2a7182915300",
       "style": "IPY_MODEL_3d5039e1de594ae3ae40b11e60facab4",
       "value": " 5/5 [05:35&lt;00:00, 70.39s/it]"
      }
     }
    },
    "version_major": 2,
    "version_minor": 0
   }
  }
 },
 "nbformat": 4,
 "nbformat_minor": 5
}
