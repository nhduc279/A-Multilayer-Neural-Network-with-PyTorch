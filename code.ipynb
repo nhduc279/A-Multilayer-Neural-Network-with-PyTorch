{
 "cells": [
  {
   "cell_type": "code",
   "execution_count": 1,
   "metadata": {},
   "outputs": [],
   "source": [
    "import os\n",
    "from tqdm.notebook import trange\n",
    "import matplotlib.pyplot as plt\n",
    "\n",
    "# Data manipulation\n",
    "import pandas as pd\n",
    "\n",
    "# PyTorch imports\n",
    "import torch\n",
    "import torch.nn.functional as F\n",
    "\n",
    "# Sklearn imports\n",
    "from sklearn.model_selection import train_test_split\n",
    "from sklearn.preprocessing import StandardScaler"
   ]
  },
  {
   "cell_type": "markdown",
   "metadata": {},
   "source": [
    "## Device optimization"
   ]
  },
  {
   "cell_type": "code",
   "execution_count": 2,
   "metadata": {},
   "outputs": [
    {
     "name": "stdout",
     "output_type": "stream",
     "text": [
      "Using device: cpu\n"
     ]
    }
   ],
   "source": [
    "if torch.cuda.is_available():\n",
    "    device = torch.device(type='cuda')\n",
    "else:\n",
    "    device = torch.device(type='cpu')\n",
    "    \n",
    "print(f'Using device: {device}')"
   ]
  },
  {
   "cell_type": "markdown",
   "metadata": {},
   "source": [
    "## Random seed initialize"
   ]
  },
  {
   "cell_type": "code",
   "execution_count": 3,
   "metadata": {},
   "outputs": [],
   "source": [
    "RANDOM_SEED = 279\n",
    "\n",
    "def seed_everything(seed=RANDOM_SEED):\n",
    "    os.environ['PYTHONHASHSEED'] = str(seed)\n",
    "    torch.manual_seed(seed)\n",
    "    torch.cuda.manual_seed(seed)\n",
    "    torch.backends.cudnn.deterministic = True\n",
    "    torch.backends.cudnn.benchmark = True\n",
    "    \n",
    "seed_everything()"
   ]
  },
  {
   "cell_type": "markdown",
   "metadata": {},
   "source": [
    "## Load in data"
   ]
  },
  {
   "cell_type": "code",
   "execution_count": 4,
   "metadata": {},
   "outputs": [
    {
     "data": {
      "text/html": [
       "<div>\n",
       "<style scoped>\n",
       "    .dataframe tbody tr th:only-of-type {\n",
       "        vertical-align: middle;\n",
       "    }\n",
       "\n",
       "    .dataframe tbody tr th {\n",
       "        vertical-align: top;\n",
       "    }\n",
       "\n",
       "    .dataframe thead th {\n",
       "        text-align: right;\n",
       "    }\n",
       "</style>\n",
       "<table border=\"1\" class=\"dataframe\">\n",
       "  <thead>\n",
       "    <tr style=\"text-align: right;\">\n",
       "      <th></th>\n",
       "      <th>TV</th>\n",
       "      <th>Radio</th>\n",
       "      <th>Newspaper</th>\n",
       "      <th>Sales</th>\n",
       "    </tr>\n",
       "  </thead>\n",
       "  <tbody>\n",
       "    <tr>\n",
       "      <th>0</th>\n",
       "      <td>230.1</td>\n",
       "      <td>37.8</td>\n",
       "      <td>69.2</td>\n",
       "      <td>22.1</td>\n",
       "    </tr>\n",
       "    <tr>\n",
       "      <th>1</th>\n",
       "      <td>44.5</td>\n",
       "      <td>39.3</td>\n",
       "      <td>45.1</td>\n",
       "      <td>10.4</td>\n",
       "    </tr>\n",
       "    <tr>\n",
       "      <th>2</th>\n",
       "      <td>17.2</td>\n",
       "      <td>45.9</td>\n",
       "      <td>69.3</td>\n",
       "      <td>9.3</td>\n",
       "    </tr>\n",
       "    <tr>\n",
       "      <th>3</th>\n",
       "      <td>151.5</td>\n",
       "      <td>41.3</td>\n",
       "      <td>58.5</td>\n",
       "      <td>18.5</td>\n",
       "    </tr>\n",
       "    <tr>\n",
       "      <th>4</th>\n",
       "      <td>180.8</td>\n",
       "      <td>10.8</td>\n",
       "      <td>58.4</td>\n",
       "      <td>12.9</td>\n",
       "    </tr>\n",
       "    <tr>\n",
       "      <th>...</th>\n",
       "      <td>...</td>\n",
       "      <td>...</td>\n",
       "      <td>...</td>\n",
       "      <td>...</td>\n",
       "    </tr>\n",
       "    <tr>\n",
       "      <th>195</th>\n",
       "      <td>38.2</td>\n",
       "      <td>3.7</td>\n",
       "      <td>13.8</td>\n",
       "      <td>7.6</td>\n",
       "    </tr>\n",
       "    <tr>\n",
       "      <th>196</th>\n",
       "      <td>94.2</td>\n",
       "      <td>4.9</td>\n",
       "      <td>8.1</td>\n",
       "      <td>9.7</td>\n",
       "    </tr>\n",
       "    <tr>\n",
       "      <th>197</th>\n",
       "      <td>177.0</td>\n",
       "      <td>9.3</td>\n",
       "      <td>6.4</td>\n",
       "      <td>12.8</td>\n",
       "    </tr>\n",
       "    <tr>\n",
       "      <th>198</th>\n",
       "      <td>283.6</td>\n",
       "      <td>42.0</td>\n",
       "      <td>66.2</td>\n",
       "      <td>25.5</td>\n",
       "    </tr>\n",
       "    <tr>\n",
       "      <th>199</th>\n",
       "      <td>232.1</td>\n",
       "      <td>8.6</td>\n",
       "      <td>8.7</td>\n",
       "      <td>13.4</td>\n",
       "    </tr>\n",
       "  </tbody>\n",
       "</table>\n",
       "<p>200 rows × 4 columns</p>\n",
       "</div>"
      ],
      "text/plain": [
       "        TV  Radio  Newspaper  Sales\n",
       "0    230.1   37.8       69.2   22.1\n",
       "1     44.5   39.3       45.1   10.4\n",
       "2     17.2   45.9       69.3    9.3\n",
       "3    151.5   41.3       58.5   18.5\n",
       "4    180.8   10.8       58.4   12.9\n",
       "..     ...    ...        ...    ...\n",
       "195   38.2    3.7       13.8    7.6\n",
       "196   94.2    4.9        8.1    9.7\n",
       "197  177.0    9.3        6.4   12.8\n",
       "198  283.6   42.0       66.2   25.5\n",
       "199  232.1    8.6        8.7   13.4\n",
       "\n",
       "[200 rows x 4 columns]"
      ]
     },
     "execution_count": 4,
     "metadata": {},
     "output_type": "execute_result"
    }
   ],
   "source": [
    "df = pd.read_csv('sales.csv').drop(['Unnamed: 0'],axis=1)\n",
    "df"
   ]
  },
  {
   "cell_type": "markdown",
   "metadata": {},
   "source": [
    "## Data Preparation"
   ]
  },
  {
   "cell_type": "code",
   "execution_count": 5,
   "metadata": {},
   "outputs": [],
   "source": [
    "features  = ['TV', 'Newspaper', 'Radio']\n",
    "X = df[features]\n",
    "y = df['Sales']\n",
    "\n",
    "# scaler\n",
    "sc = StandardScaler()"
   ]
  },
  {
   "cell_type": "code",
   "execution_count": 6,
   "metadata": {},
   "outputs": [],
   "source": [
    "# Do train-test-split \n",
    "X_train, X_test, y_train, y_test = train_test_split(X, y, \n",
    "                                                    test_size=0.25,\n",
    "                                                    random_state=279)\n",
    "\n",
    "X_train = torch.tensor(sc.fit_transform(X_train.values), \n",
    "                       device=device, \n",
    "                       dtype=torch.float)\n",
    "\n",
    "y_train = torch.tensor(y_train.values, \n",
    "                       device=device,\n",
    "                       dtype=torch.float)\n",
    "\n",
    "X_train, X_val, y_train, y_val = train_test_split(X_train.numpy(),\n",
    "                                                  y_train.numpy(),\n",
    "                                                  test_size=0.05,\n",
    "                                                  random_state=1)\n",
    "\n",
    "X_val = torch.tensor(X_val, device=device, dtype=torch.float)\n",
    "y_val = torch.tensor(y_val, device=device, dtype=torch.float)\n",
    "\n",
    "X_train = torch.tensor(X_train, device=device, dtype=torch.float)\n",
    "y_train = torch.tensor(y_train, device=device, dtype=torch.float)\n",
    "\n",
    "X_test = torch.tensor(sc.transform(X_test.values), device=device, dtype=torch.float)\n",
    "y_test = torch.tensor(y_test.values, device=device, dtype=torch.float)"
   ]
  },
  {
   "cell_type": "markdown",
   "metadata": {},
   "source": [
    "## Build a multi-layer neural network"
   ]
  },
  {
   "cell_type": "code",
   "execution_count": 7,
   "metadata": {},
   "outputs": [],
   "source": [
    "class MyNetwork(torch.nn.Module):\n",
    "    def __init__(self, num_features):\n",
    "        super(MyNetwork, self).__init__()\n",
    "        self.num_features = num_features\n",
    "        self.my_netwrok = torch.nn.Sequential(\n",
    "            torch.nn.Linear(num_features, 128),\n",
    "            torch.nn.SiLU(),\n",
    "            torch.nn.Linear(128, 96),\n",
    "            torch.nn.SiLU(),\n",
    "            torch.nn.Linear(96, 64),\n",
    "            torch.nn.SiLU(),\n",
    "            torch.nn.Linear(64, 32),\n",
    "            torch.nn.SiLU(),\n",
    "            torch.nn.Linear(32, 16),\n",
    "            torch.nn.SiLU(),\n",
    "            torch.nn.Linear(16, 1),\n",
    "            torch.nn.Identity()\n",
    "        )\n",
    "\n",
    "    def forward(self, x):\n",
    "        logits = self.my_netwrok(x).view(-1)\n",
    "        return logits"
   ]
  },
  {
   "cell_type": "code",
   "execution_count": 8,
   "metadata": {},
   "outputs": [],
   "source": [
    "train_cost, val_cost = [], []\n",
    "\n",
    "def train(model, x, y, x_val, y_val, learning_rate=0.005, num_epochs=10, seed=279, minibatch_size=32):\n",
    "\n",
    "    optimizer = torch.optim.Adam(model.parameters(), lr=learning_rate)\n",
    "    \n",
    "    for e in trange(num_epochs):\n",
    "        print(f'Epoch: {e+1}', end='')\n",
    "        shuffle_idx = torch.randperm(y.size(0), dtype=torch.long)\n",
    "        minibatches = torch.split(shuffle_idx, minibatch_size)\n",
    "\n",
    "        for minibatch_idx in minibatches:\n",
    "            if minibatch_idx.shape[0] == 32:\n",
    "                yhat = model.forward(x[minibatch_idx])\n",
    "                loss = F.mse_loss(yhat, y[minibatch_idx])\n",
    "                optimizer.zero_grad()\n",
    "                loss.backward()\n",
    "                optimizer.step()\n",
    "            \n",
    "        with torch.no_grad():\n",
    "            yhat = model.forward(x)\n",
    "            curr_loss = F.mse_loss(y, yhat)\n",
    "            yhat_val = model.forward(x_val)\n",
    "            curr_loss_val = F.mse_loss(y_val, yhat_val)\n",
    "            train_cost.append(curr_loss)\n",
    "            val_cost.append(curr_loss_val)\n",
    "            print(f' | Train loss: {curr_loss:.3f}' , end='')\n",
    "            print(f' | Val loss: {curr_loss_val:.3f}')"
   ]
  },
  {
   "cell_type": "code",
   "execution_count": 9,
   "metadata": {},
   "outputs": [
    {
     "data": {
      "text/plain": [
       "MyNetwork(\n",
       "  (my_netwrok): Sequential(\n",
       "    (0): Linear(in_features=3, out_features=128, bias=True)\n",
       "    (1): SiLU()\n",
       "    (2): Linear(in_features=128, out_features=96, bias=True)\n",
       "    (3): SiLU()\n",
       "    (4): Linear(in_features=96, out_features=64, bias=True)\n",
       "    (5): SiLU()\n",
       "    (6): Linear(in_features=64, out_features=32, bias=True)\n",
       "    (7): SiLU()\n",
       "    (8): Linear(in_features=32, out_features=16, bias=True)\n",
       "    (9): SiLU()\n",
       "    (10): Linear(in_features=16, out_features=1, bias=True)\n",
       "    (11): Identity()\n",
       "  )\n",
       ")"
      ]
     },
     "execution_count": 9,
     "metadata": {},
     "output_type": "execute_result"
    }
   ],
   "source": [
    "model = MyNetwork(num_features=X_train.shape[1])\n",
    "model.to(device)"
   ]
  },
  {
   "cell_type": "code",
   "execution_count": 10,
   "metadata": {},
   "outputs": [
    {
     "data": {
      "application/vnd.jupyter.widget-view+json": {
       "model_id": "770af5e661804155bfdf635558da8d38",
       "version_major": 2,
       "version_minor": 0
      },
      "text/plain": [
       "  0%|          | 0/100 [00:00<?, ?it/s]"
      ]
     },
     "metadata": {},
     "output_type": "display_data"
    },
    {
     "name": "stdout",
     "output_type": "stream",
     "text": [
      "Epoch: 1 | Train loss: 218.909 | Val loss: 173.515\n",
      "Epoch: 2 | Train loss: 191.277 | Val loss: 148.427\n",
      "Epoch: 3 | Train loss: 101.664 | Val loss: 70.684\n",
      "Epoch: 4 | Train loss: 24.875 | Val loss: 27.160\n",
      "Epoch: 5 | Train loss: 7.871 | Val loss: 6.886\n",
      "Epoch: 6 | Train loss: 18.034 | Val loss: 12.678\n",
      "Epoch: 7 | Train loss: 10.313 | Val loss: 6.774\n",
      "Epoch: 8 | Train loss: 6.484 | Val loss: 5.532\n",
      "Epoch: 9 | Train loss: 2.629 | Val loss: 4.777\n",
      "Epoch: 10 | Train loss: 3.553 | Val loss: 1.157\n",
      "Epoch: 11 | Train loss: 2.302 | Val loss: 0.994\n",
      "Epoch: 12 | Train loss: 1.974 | Val loss: 2.467\n",
      "Epoch: 13 | Train loss: 0.853 | Val loss: 0.237\n",
      "Epoch: 14 | Train loss: 0.929 | Val loss: 0.604\n",
      "Epoch: 15 | Train loss: 0.737 | Val loss: 0.309\n",
      "Epoch: 16 | Train loss: 0.412 | Val loss: 0.411\n",
      "Epoch: 17 | Train loss: 0.426 | Val loss: 0.754\n",
      "Epoch: 18 | Train loss: 0.360 | Val loss: 0.926\n",
      "Epoch: 19 | Train loss: 0.348 | Val loss: 1.350\n",
      "Epoch: 20 | Train loss: 0.329 | Val loss: 1.253\n",
      "Epoch: 21 | Train loss: 0.326 | Val loss: 1.104\n",
      "Epoch: 22 | Train loss: 0.304 | Val loss: 0.784\n",
      "Epoch: 23 | Train loss: 0.269 | Val loss: 0.811\n",
      "Epoch: 24 | Train loss: 0.270 | Val loss: 0.865\n",
      "Epoch: 25 | Train loss: 0.255 | Val loss: 0.775\n",
      "Epoch: 26 | Train loss: 0.252 | Val loss: 0.515\n",
      "Epoch: 27 | Train loss: 0.244 | Val loss: 0.654\n",
      "Epoch: 28 | Train loss: 0.235 | Val loss: 0.770\n",
      "Epoch: 29 | Train loss: 0.227 | Val loss: 0.478\n",
      "Epoch: 30 | Train loss: 0.239 | Val loss: 0.311\n",
      "Epoch: 31 | Train loss: 0.217 | Val loss: 0.333\n",
      "Epoch: 32 | Train loss: 0.211 | Val loss: 0.486\n",
      "Epoch: 33 | Train loss: 0.199 | Val loss: 0.532\n",
      "Epoch: 34 | Train loss: 0.191 | Val loss: 0.474\n",
      "Epoch: 35 | Train loss: 0.183 | Val loss: 0.565\n",
      "Epoch: 36 | Train loss: 0.187 | Val loss: 0.759\n",
      "Epoch: 37 | Train loss: 0.177 | Val loss: 0.549\n",
      "Epoch: 38 | Train loss: 0.172 | Val loss: 0.305\n",
      "Epoch: 39 | Train loss: 0.160 | Val loss: 0.296\n",
      "Epoch: 40 | Train loss: 0.175 | Val loss: 0.479\n",
      "Epoch: 41 | Train loss: 0.148 | Val loss: 0.405\n",
      "Epoch: 42 | Train loss: 0.144 | Val loss: 0.394\n",
      "Epoch: 43 | Train loss: 0.138 | Val loss: 0.237\n",
      "Epoch: 44 | Train loss: 0.147 | Val loss: 0.304\n",
      "Epoch: 45 | Train loss: 0.132 | Val loss: 0.267\n",
      "Epoch: 46 | Train loss: 0.130 | Val loss: 0.183\n",
      "Epoch: 47 | Train loss: 0.116 | Val loss: 0.235\n",
      "Epoch: 48 | Train loss: 0.127 | Val loss: 0.211\n",
      "Epoch: 49 | Train loss: 0.129 | Val loss: 0.153\n",
      "Epoch: 50 | Train loss: 0.124 | Val loss: 0.218\n",
      "Epoch: 51 | Train loss: 0.111 | Val loss: 0.116\n",
      "Epoch: 52 | Train loss: 0.128 | Val loss: 0.094\n",
      "Epoch: 53 | Train loss: 0.138 | Val loss: 0.213\n",
      "Epoch: 54 | Train loss: 0.112 | Val loss: 0.118\n",
      "Epoch: 55 | Train loss: 0.110 | Val loss: 0.199\n",
      "Epoch: 56 | Train loss: 0.102 | Val loss: 0.125\n",
      "Epoch: 57 | Train loss: 0.104 | Val loss: 0.099\n",
      "Epoch: 58 | Train loss: 0.105 | Val loss: 0.111\n",
      "Epoch: 59 | Train loss: 0.098 | Val loss: 0.104\n",
      "Epoch: 60 | Train loss: 0.093 | Val loss: 0.092\n",
      "Epoch: 61 | Train loss: 0.094 | Val loss: 0.100\n",
      "Epoch: 62 | Train loss: 0.097 | Val loss: 0.088\n",
      "Epoch: 63 | Train loss: 0.089 | Val loss: 0.084\n",
      "Epoch: 64 | Train loss: 0.089 | Val loss: 0.081\n",
      "Epoch: 65 | Train loss: 0.089 | Val loss: 0.078\n",
      "Epoch: 66 | Train loss: 0.087 | Val loss: 0.085\n",
      "Epoch: 67 | Train loss: 0.088 | Val loss: 0.089\n",
      "Epoch: 68 | Train loss: 0.094 | Val loss: 0.078\n",
      "Epoch: 69 | Train loss: 0.102 | Val loss: 0.074\n",
      "Epoch: 70 | Train loss: 0.132 | Val loss: 0.135\n",
      "Epoch: 71 | Train loss: 0.106 | Val loss: 0.073\n",
      "Epoch: 72 | Train loss: 0.094 | Val loss: 0.077\n",
      "Epoch: 73 | Train loss: 0.087 | Val loss: 0.077\n",
      "Epoch: 74 | Train loss: 0.091 | Val loss: 0.095\n",
      "Epoch: 75 | Train loss: 0.095 | Val loss: 0.074\n",
      "Epoch: 76 | Train loss: 0.096 | Val loss: 0.073\n",
      "Epoch: 77 | Train loss: 0.088 | Val loss: 0.078\n",
      "Epoch: 78 | Train loss: 0.086 | Val loss: 0.082\n",
      "Epoch: 79 | Train loss: 0.089 | Val loss: 0.080\n",
      "Epoch: 80 | Train loss: 0.085 | Val loss: 0.082\n",
      "Epoch: 81 | Train loss: 0.089 | Val loss: 0.077\n",
      "Epoch: 82 | Train loss: 0.098 | Val loss: 0.083\n",
      "Epoch: 83 | Train loss: 0.123 | Val loss: 0.080\n",
      "Epoch: 84 | Train loss: 0.112 | Val loss: 0.114\n",
      "Epoch: 85 | Train loss: 0.105 | Val loss: 0.104\n",
      "Epoch: 86 | Train loss: 0.161 | Val loss: 0.068\n",
      "Epoch: 87 | Train loss: 0.249 | Val loss: 0.225\n",
      "Epoch: 88 | Train loss: 0.182 | Val loss: 0.084\n",
      "Epoch: 89 | Train loss: 0.237 | Val loss: 0.073\n",
      "Epoch: 90 | Train loss: 0.231 | Val loss: 0.301\n",
      "Epoch: 91 | Train loss: 0.120 | Val loss: 0.071\n",
      "Epoch: 92 | Train loss: 0.100 | Val loss: 0.129\n",
      "Epoch: 93 | Train loss: 0.143 | Val loss: 0.263\n",
      "Epoch: 94 | Train loss: 0.124 | Val loss: 0.112\n",
      "Epoch: 95 | Train loss: 0.092 | Val loss: 0.105\n",
      "Epoch: 96 | Train loss: 0.108 | Val loss: 0.159\n",
      "Epoch: 97 | Train loss: 0.097 | Val loss: 0.090\n",
      "Epoch: 98 | Train loss: 0.089 | Val loss: 0.116\n",
      "Epoch: 99 | Train loss: 0.085 | Val loss: 0.093\n",
      "Epoch: 100 | Train loss: 0.086 | Val loss: 0.088\n"
     ]
    }
   ],
   "source": [
    "train(model, \n",
    "      X_train, y_train,\n",
    "      X_val, y_val, \n",
    "      num_epochs=100,\n",
    "      learning_rate=0.005)"
   ]
  },
  {
   "cell_type": "code",
   "execution_count": 11,
   "metadata": {},
   "outputs": [
    {
     "data": {
      "image/png": "[encoded data removed]",
      "text/plain": [
       "<Figure size 432x288 with 1 Axes>"
      ]
     },
     "metadata": {
      "needs_background": "light"
     },
     "output_type": "display_data"
    }
   ],
   "source": [
    "plt.plot(range(len(train_cost)), train_cost)\n",
    "plt.plot(range(len(val_cost)), val_cost)\n",
    "plt.xlabel('Epoch')\n",
    "plt.ylabel('MSE-Loss')\n",
    "plt.show()"
   ]
  },
  {
   "cell_type": "code",
   "execution_count": 12,
   "metadata": {},
   "outputs": [
    {
     "data": {
      "text/plain": [
       "tensor(0.1995, grad_fn=<MseLossBackward0>)"
      ]
     },
     "execution_count": 12,
     "metadata": {},
     "output_type": "execute_result"
    }
   ],
   "source": [
    "F.mse_loss(model.forward(X_test), y_test)"
   ]
  },
  {
   "cell_type": "markdown",
   "metadata": {},
   "source": [
    "The network that I designed (MSE = 0.1995) outperforms RandomForest (MSE = 0.385)"
   ]
  },
  {
   "cell_type": "code",
   "execution_count": null,
   "metadata": {},
   "outputs": [],
   "source": []
  }
 ],
 "metadata": {
  "kernelspec": {
   "display_name": "Python 3 (ipykernel)",
   "language": "python",
   "name": "python3"
  },
  "language_info": {
   "codemirror_mode": {
    "name": "ipython",
    "version": 3
   },
   "file_extension": ".py",
   "mimetype": "text/x-python",
   "name": "python",
   "nbconvert_exporter": "python",
   "pygments_lexer": "ipython3",
   "version": "3.8.8"
  }
 },
 "nbformat": 4,
 "nbformat_minor": 4
}
